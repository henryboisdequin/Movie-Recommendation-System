{
 "cells": [
  {
   "cell_type": "code",
   "execution_count": 1,
   "metadata": {},
   "outputs": [
    {
     "name": "stdout",
     "output_type": "stream",
     "text": [
      "<bound method NDFrame.head of        adult                              belongs_to_collection    budget  \\\n",
      "0      False  {'id': 10194, 'name': 'Toy Story Collection', ...  30000000   \n",
      "1      False                                                NaN  65000000   \n",
      "2      False  {'id': 119050, 'name': 'Grumpy Old Men Collect...         0   \n",
      "3      False                                                NaN  16000000   \n",
      "4      False  {'id': 96871, 'name': 'Father of the Bride Col...         0   \n",
      "...      ...                                                ...       ...   \n",
      "45461  False                                                NaN         0   \n",
      "45462  False                                                NaN         0   \n",
      "45463  False                                                NaN         0   \n",
      "45464  False                                                NaN         0   \n",
      "45465  False                                                NaN         0   \n",
      "\n",
      "                                                  genres  \\\n",
      "0      [{'id': 16, 'name': 'Animation'}, {'id': 35, '...   \n",
      "1      [{'id': 12, 'name': 'Adventure'}, {'id': 14, '...   \n",
      "2      [{'id': 10749, 'name': 'Romance'}, {'id': 35, ...   \n",
      "3      [{'id': 35, 'name': 'Comedy'}, {'id': 18, 'nam...   \n",
      "4                         [{'id': 35, 'name': 'Comedy'}]   \n",
      "...                                                  ...   \n",
      "45461  [{'id': 18, 'name': 'Drama'}, {'id': 10751, 'n...   \n",
      "45462                      [{'id': 18, 'name': 'Drama'}]   \n",
      "45463  [{'id': 28, 'name': 'Action'}, {'id': 18, 'nam...   \n",
      "45464                                                 []   \n",
      "45465                                                 []   \n",
      "\n",
      "                                   homepage      id    imdb_id  \\\n",
      "0      http://toystory.disney.com/toy-story     862  tt0114709   \n",
      "1                                       NaN    8844  tt0113497   \n",
      "2                                       NaN   15602  tt0113228   \n",
      "3                                       NaN   31357  tt0114885   \n",
      "4                                       NaN   11862  tt0113041   \n",
      "...                                     ...     ...        ...   \n",
      "45461  http://www.imdb.com/title/tt6209470/  439050  tt6209470   \n",
      "45462                                   NaN  111109  tt2028550   \n",
      "45463                                   NaN   67758  tt0303758   \n",
      "45464                                   NaN  227506  tt0008536   \n",
      "45465                                   NaN  461257  tt6980792   \n",
      "\n",
      "      original_language               original_title  \\\n",
      "0                    en                    Toy Story   \n",
      "1                    en                      Jumanji   \n",
      "2                    en             Grumpier Old Men   \n",
      "3                    en            Waiting to Exhale   \n",
      "4                    en  Father of the Bride Part II   \n",
      "...                 ...                          ...   \n",
      "45461                fa                      رگ خواب   \n",
      "45462                tl          Siglo ng Pagluluwal   \n",
      "45463                en                     Betrayal   \n",
      "45464                en          Satana likuyushchiy   \n",
      "45465                en                     Queerama   \n",
      "\n",
      "                                                overview  ... release_date  \\\n",
      "0      Led by Woody, Andy's toys live happily in his ...  ...   1995-10-30   \n",
      "1      When siblings Judy and Peter discover an encha...  ...   1995-12-15   \n",
      "2      A family wedding reignites the ancient feud be...  ...   1995-12-22   \n",
      "3      Cheated on, mistreated and stepped on, the wom...  ...   1995-12-22   \n",
      "4      Just when George Banks has recovered from his ...  ...   1995-02-10   \n",
      "...                                                  ...  ...          ...   \n",
      "45461        Rising and falling between a man and woman.  ...          NaN   \n",
      "45462  An artist struggles to finish his work while a...  ...   2011-11-17   \n",
      "45463  When one of her hits goes wrong, a professiona...  ...   2003-08-01   \n",
      "45464  In a small town live two brothers, one a minis...  ...   1917-10-21   \n",
      "45465  50 years after decriminalisation of homosexual...  ...   2017-06-09   \n",
      "\n",
      "           revenue runtime                                   spoken_languages  \\\n",
      "0      373554033.0    81.0           [{'iso_639_1': 'en', 'name': 'English'}]   \n",
      "1      262797249.0   104.0  [{'iso_639_1': 'en', 'name': 'English'}, {'iso...   \n",
      "2              0.0   101.0           [{'iso_639_1': 'en', 'name': 'English'}]   \n",
      "3       81452156.0   127.0           [{'iso_639_1': 'en', 'name': 'English'}]   \n",
      "4       76578911.0   106.0           [{'iso_639_1': 'en', 'name': 'English'}]   \n",
      "...            ...     ...                                                ...   \n",
      "45461          0.0    90.0             [{'iso_639_1': 'fa', 'name': 'فارسی'}]   \n",
      "45462          0.0   360.0                  [{'iso_639_1': 'tl', 'name': ''}]   \n",
      "45463          0.0    90.0           [{'iso_639_1': 'en', 'name': 'English'}]   \n",
      "45464          0.0    87.0                                                 []   \n",
      "45465          0.0    75.0           [{'iso_639_1': 'en', 'name': 'English'}]   \n",
      "\n",
      "         status                                            tagline  \\\n",
      "0      Released                                                NaN   \n",
      "1      Released          Roll the dice and unleash the excitement!   \n",
      "2      Released  Still Yelling. Still Fighting. Still Ready for...   \n",
      "3      Released  Friends are the people who let you be yourself...   \n",
      "4      Released  Just When His World Is Back To Normal... He's ...   \n",
      "...         ...                                                ...   \n",
      "45461  Released         Rising and falling between a man and woman   \n",
      "45462  Released                                                NaN   \n",
      "45463  Released                             A deadly game of wits.   \n",
      "45464  Released                                                NaN   \n",
      "45465  Released                                                NaN   \n",
      "\n",
      "                             title  video vote_average vote_count  \n",
      "0                        Toy Story  False          7.7     5415.0  \n",
      "1                          Jumanji  False          6.9     2413.0  \n",
      "2                 Grumpier Old Men  False          6.5       92.0  \n",
      "3                Waiting to Exhale  False          6.1       34.0  \n",
      "4      Father of the Bride Part II  False          5.7      173.0  \n",
      "...                            ...    ...          ...        ...  \n",
      "45461                       Subdue  False          4.0        1.0  \n",
      "45462          Century of Birthing  False          9.0        3.0  \n",
      "45463                     Betrayal  False          3.8        6.0  \n",
      "45464             Satan Triumphant  False          0.0        0.0  \n",
      "45465                     Queerama  False          0.0        0.0  \n",
      "\n",
      "[45466 rows x 24 columns]>\n"
     ]
    }
   ],
   "source": [
    "import pandas as pd\n",
    "\n",
    "metadata = pd.read_csv('movies_metadata.csv', low_memory=False)\n",
    "\n",
    "print(metadata.head)"
   ]
  },
  {
   "cell_type": "code",
   "execution_count": 2,
   "metadata": {},
   "outputs": [
    {
     "name": "stdout",
     "output_type": "stream",
     "text": [
      "5.618207215134185\n"
     ]
    }
   ],
   "source": [
    "C = metadata['vote_average'].mean()\n",
    "print(C)"
   ]
  },
  {
   "cell_type": "code",
   "execution_count": 3,
   "metadata": {},
   "outputs": [
    {
     "name": "stdout",
     "output_type": "stream",
     "text": [
      "160.0\n"
     ]
    }
   ],
   "source": [
    "m = metadata['vote_count'].quantile(0.90)\n",
    "print(m)"
   ]
  },
  {
   "cell_type": "code",
   "execution_count": 5,
   "metadata": {},
   "outputs": [
    {
     "name": "stdout",
     "output_type": "stream",
     "text": [
      "(4555, 24)\n"
     ]
    }
   ],
   "source": [
    "q_movies = metadata.copy().loc[metadata['vote_count'] >= m]\n",
    "print(q_movies.shape)"
   ]
  },
  {
   "cell_type": "code",
   "execution_count": 6,
   "metadata": {},
   "outputs": [
    {
     "name": "stdout",
     "output_type": "stream",
     "text": [
      "(45466, 24)\n"
     ]
    }
   ],
   "source": [
    "print(metadata.shape)"
   ]
  },
  {
   "cell_type": "code",
   "execution_count": 8,
   "metadata": {},
   "outputs": [
    {
     "name": "stdout",
     "output_type": "stream",
     "text": [
      "                                 title  vote_count  vote_average     score\n",
      "314           The Shawshank Redemption      8358.0           8.5  8.445869\n",
      "834                      The Godfather      6024.0           8.5  8.425439\n",
      "10309      Dilwale Dulhania Le Jayenge       661.0           9.1  8.421453\n",
      "12481                  The Dark Knight     12269.0           8.3  8.265477\n",
      "2843                        Fight Club      9678.0           8.3  8.256385\n",
      "292                       Pulp Fiction      8670.0           8.3  8.251406\n",
      "522                   Schindler's List      4436.0           8.3  8.206639\n",
      "23673                         Whiplash      4376.0           8.3  8.205404\n",
      "5481                     Spirited Away      3968.0           8.3  8.196055\n",
      "2211                 Life Is Beautiful      3643.0           8.3  8.187171\n",
      "1178            The Godfather: Part II      3418.0           8.3  8.180076\n",
      "1152   One Flew Over the Cuckoo's Nest      3001.0           8.3  8.164256\n",
      "351                       Forrest Gump      8147.0           8.2  8.150272\n",
      "1154           The Empire Strikes Back      5998.0           8.2  8.132919\n",
      "1176                            Psycho      2405.0           8.3  8.132715\n",
      "18465                 The Intouchables      5410.0           8.2  8.125837\n",
      "40251                       Your Name.      1030.0           8.5  8.112532\n",
      "289             Leon: The Professional      4293.0           8.2  8.107234\n",
      "3030                    The Green Mile      4166.0           8.2  8.104511\n",
      "1170                        GoodFellas      3211.0           8.2  8.077459\n"
     ]
    }
   ],
   "source": [
    "def weighted_rating(x, m=m, C=C):\n",
    "    v = x['vote_count']\n",
    "    R = x['vote_average']\n",
    "    # IMDB formula ~ recommendation formula\n",
    "    return (v / (v + m) * R) + (m / (m + v) * C)\n",
    "\n",
    "\n",
    "q_movies['score'] = q_movies.apply(weighted_rating, axis=1)  # calculate score by weighted rating\n",
    "\n",
    "q_movies = q_movies.sort_values('score', ascending=False)  # sort movies\n",
    "\n",
    "# Best 15 movies\n",
    "print(q_movies[['title', 'vote_count', 'vote_average', 'score']].head(20))"
   ]
  },
  {
   "cell_type": "code",
   "execution_count": 9,
   "metadata": {},
   "outputs": [
    {
     "data": {
      "text/plain": [
       "'The movies above are the top 25 movies based on the number of voters and the vote average, this is called simple\\nrecommendation'"
      ]
     },
     "execution_count": 9,
     "metadata": {},
     "output_type": "execute_result"
    }
   ],
   "source": [
    "\"\"\"The movies above are the top 25 movies based on the number of voters and the vote average, this is called simple\n",
    "recommendation\"\"\""
   ]
  },
  {
   "cell_type": "code",
   "execution_count": 10,
   "metadata": {},
   "outputs": [
    {
     "name": "stdout",
     "output_type": "stream",
     "text": [
      "0    Led by Woody, Andy's toys live happily in his ...\n",
      "1    When siblings Judy and Peter discover an encha...\n",
      "2    A family wedding reignites the ancient feud be...\n",
      "3    Cheated on, mistreated and stepped on, the wom...\n",
      "4    Just when George Banks has recovered from his ...\n",
      "Name: overview, dtype: object\n"
     ]
    }
   ],
   "source": [
    "print(metadata['overview'].head())"
   ]
  },
  {
   "cell_type": "code",
   "execution_count": 11,
   "metadata": {},
   "outputs": [
    {
     "name": "stdout",
     "output_type": "stream",
     "text": [
      "(45466, 75827)\n"
     ]
    }
   ],
   "source": [
    "from sklearn.feature_extraction.text import TfidfVectorizer\n",
    "\n",
    "tfidf = TfidfVectorizer(stop_words='english')\n",
    "\n",
    "metadata['overview'] = metadata['overview'].fillna('')\n",
    "\n",
    "tfidf_matrix = tfidf.fit_transform(metadata['overview'])\n",
    "\n",
    "print(tfidf_matrix.shape)"
   ]
  },
  {
   "cell_type": "code",
   "execution_count": 12,
   "metadata": {},
   "outputs": [
    {
     "name": "stdout",
     "output_type": "stream",
     "text": [
      "['avails', 'avaks', 'avalanche', 'avalanches', 'avallone', 'avalon', 'avant', 'avanthika', 'avanti', 'avaracious']\n"
     ]
    }
   ],
   "source": [
    "print(tfidf.get_feature_names()[5000:5010])"
   ]
  },
  {
   "cell_type": "code",
   "execution_count": 13,
   "metadata": {},
   "outputs": [
    {
     "name": "stdout",
     "output_type": "stream",
     "text": [
      "(45466, 45466)\n"
     ]
    }
   ],
   "source": [
    "from sklearn.metrics.pairwise import linear_kernel\n",
    "\n",
    "# Compute the cosine similarity matrix equasion\n",
    "cosine_sim = linear_kernel(tfidf_matrix, tfidf_matrix)\n",
    "\n",
    "print(cosine_sim.shape)"
   ]
  },
  {
   "cell_type": "code",
   "execution_count": 14,
   "metadata": {},
   "outputs": [
    {
     "name": "stdout",
     "output_type": "stream",
     "text": [
      "title\n",
      "Toy Story                      0\n",
      "Jumanji                        1\n",
      "Grumpier Old Men               2\n",
      "Waiting to Exhale              3\n",
      "Father of the Bride Part II    4\n",
      "Heat                           5\n",
      "Sabrina                        6\n",
      "Tom and Huck                   7\n",
      "Sudden Death                   8\n",
      "GoldenEye                      9\n",
      "dtype: int64\n"
     ]
    }
   ],
   "source": [
    "indices = pd.Series(metadata.index, index=metadata['title']).drop_duplicates()\n",
    "\n",
    "print(indices[:10])"
   ]
  },
  {
   "cell_type": "code",
   "execution_count": 23,
   "metadata": {},
   "outputs": [
    {
     "data": {
      "text/plain": [
       "17213                           Kung Fu Panda 2\n",
       "30939     Kung Fu Panda: Secrets of the Masters\n",
       "18335                     Kung Fu Panda Holiday\n",
       "34061    Films of Fury: The Kung Fu Movie Movie\n",
       "39432            Young Dragons: Kung Fu Kids II\n",
       "43787                   A Gift with a Character\n",
       "19894                        The 36 Crazy Fists\n",
       "7767                        Meet the Applegates\n",
       "11360                              Jade Warrior\n",
       "9733                             Kung Fu Hustle\n",
       "Name: title, dtype: object"
      ]
     },
     "execution_count": 23,
     "metadata": {},
     "output_type": "execute_result"
    }
   ],
   "source": [
    "def recommendation(title, cosine_sim=cosine_sim):\n",
    "    idx = indices[title]\n",
    "    sim_scores = list(enumerate(cosine_sim[idx]))\n",
    "\n",
    "    # get the most similar movies based on a similarity score\n",
    "    sim_scores = sorted(sim_scores, key=lambda x: x[1], reverse=True)\n",
    "\n",
    "    # get the most similar movies\n",
    "    sim_scores = sim_scores[1:11]\n",
    "    movie_indices = [i[0] for i in sim_scores]\n",
    "\n",
    "    # return most similar movies\n",
    "    return metadata['title'].iloc[movie_indices]\n",
    "\n",
    "\n",
    "recommendation('Kung Fu Panda')"
   ]
  },
  {
   "cell_type": "code",
   "execution_count": 26,
   "metadata": {},
   "outputs": [
    {
     "data": {
      "text/plain": [
       "15511                           Batman: Under the Red Hood\n",
       "21194    Batman Unmasked: The Psychology of the Dark Kn...\n",
       "9169             The Batman Superman Movie: World's Finest\n",
       "40974    LEGO DC Comics Super Heroes: Batman: Be-Leaguered\n",
       "21400                      Batman: Mystery of the Batwoman\n",
       "1328                                        Batman Returns\n",
       "34858                                         Wonder Woman\n",
       "26403                      JLA Adventures: Trapped in Time\n",
       "9230                    Batman Beyond: Return of the Joker\n",
       "19792              Batman: The Dark Knight Returns, Part 1\n",
       "Name: title, dtype: object"
      ]
     },
     "execution_count": 26,
     "metadata": {},
     "output_type": "execute_result"
    }
   ],
   "source": [
    "recommendation('Batman v Superman: Dawn of Justice')"
   ]
  },
  {
   "cell_type": "code",
   "execution_count": 24,
   "metadata": {},
   "outputs": [
    {
     "data": {
      "text/plain": [
       "'This type of recommendation is a Content-Based Recommender which looks for keywords that describe each movie that \\nmost similar to the movies you watch. This recommendation system uses the cosine similarity score equasion to find\\nthe most similar movies.'"
      ]
     },
     "execution_count": 24,
     "metadata": {},
     "output_type": "execute_result"
    }
   ],
   "source": [
    "\"\"\"This type of recommendation is a Content-Based Recommender which looks for keywords that describe each movie that \n",
    "most similar to the movies you watch. This recommendation system uses the cosine similarity score equasion to find\n",
    "the most similar movies.\"\"\""
   ]
  },
  {
   "cell_type": "code",
   "execution_count": 27,
   "metadata": {},
   "outputs": [],
   "source": [
    "__sources__ = 'https://www.kaggle.com/gspmoreira/recommender-systems-in-python-101', \n",
    "'https://www.datacamp.com/community/tutorials/recommender-systems-python', \n",
    "'https://realpython.com/build-recommendation-engine-collaborative-filtering/'\n",
    "__creator__ = 'Henry Boisdequin'"
   ]
  }
 ],
 "metadata": {
  "kernelspec": {
   "display_name": "Python 3",
   "language": "python",
   "name": "python3"
  },
  "language_info": {
   "codemirror_mode": {
    "name": "ipython",
    "version": 3
   },
   "file_extension": ".py",
   "mimetype": "text/x-python",
   "name": "python",
   "nbconvert_exporter": "python",
   "pygments_lexer": "ipython3",
   "version": "3.7.7"
  }
 },
 "nbformat": 4,
 "nbformat_minor": 4
}
